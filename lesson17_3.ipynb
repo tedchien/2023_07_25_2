{
 "cells": [
  {
   "cell_type": "code",
   "execution_count": 4,
   "metadata": {},
   "outputs": [
    {
     "data": {
      "text/plain": [
       "0     李淑芳\n",
       "1     郭淑枝\n",
       "2     張嘉韋\n",
       "3     高士凱\n",
       "4     林義皓\n",
       "5     李政白\n",
       "6     陳美惠\n",
       "7     吳晴洋\n",
       "8     林志成\n",
       "9     陳怡伶\n",
       "10    劉萬季\n",
       "11    林麗萍\n",
       "12    潘俊賢\n",
       "13    余宗儒\n",
       "14    龐皓芳\n",
       "15    吳晴洋\n",
       "16    陳得映\n",
       "17    楊建安\n",
       "18    藍哲嘉\n",
       "19    羅佩樺\n",
       "20    馮芳如\n",
       "21    陳怡珊\n",
       "22    黃靜怡\n",
       "23    潘英迪\n",
       "24    盧冠發\n",
       "25    張牧聿\n",
       "26    陳建豪\n",
       "27    羅佩樺\n",
       "28    陳信宏\n",
       "29    詹忠光\n",
       "30    黃佩芬\n",
       "31    戴萱能\n",
       "32    王士銘\n",
       "33    簡佳樺\n",
       "34    李慶亮\n",
       "35    蕭淑華\n",
       "36    王士銘\n",
       "37    金宜芳\n",
       "38    楊建安\n",
       "39    林俊翔\n",
       "40    梁柏宇\n",
       "41    蕭怡伶\n",
       "42    陳嘉淑\n",
       "43    陳淑娟\n",
       "44    賴又琦\n",
       "45    王梅劭\n",
       "46    郎慧萍\n",
       "47    黃旻林\n",
       "48    姜琬婷\n",
       "49    高信宏\n",
       "Name: 姓名, dtype: object"
      ]
     },
     "metadata": {},
     "output_type": "display_data"
    }
   ],
   "source": [
    "import pandas as pd\n",
    "df = pd.read_csv('學生成績.csv')\n",
    "#dataFrame的subscript\n",
    "name_s = df[\"姓名\"]\n",
    "display(name_s)"
   ]
  },
  {
   "cell_type": "code",
   "execution_count": 5,
   "metadata": {},
   "outputs": [
    {
     "data": {
      "text/plain": [
       "0     李淑芳\n",
       "1     郭淑枝\n",
       "2     張嘉韋\n",
       "3     高士凱\n",
       "4     林義皓\n",
       "5     李政白\n",
       "6     陳美惠\n",
       "7     吳晴洋\n",
       "8     林志成\n",
       "9     陳怡伶\n",
       "10    劉萬季\n",
       "11    林麗萍\n",
       "12    潘俊賢\n",
       "13    余宗儒\n",
       "14    龐皓芳\n",
       "15    吳晴洋\n",
       "16    陳得映\n",
       "17    楊建安\n",
       "18    藍哲嘉\n",
       "19    羅佩樺\n",
       "20    馮芳如\n",
       "21    陳怡珊\n",
       "22    黃靜怡\n",
       "23    潘英迪\n",
       "24    盧冠發\n",
       "25    張牧聿\n",
       "26    陳建豪\n",
       "27    羅佩樺\n",
       "28    陳信宏\n",
       "29    詹忠光\n",
       "30    黃佩芬\n",
       "31    戴萱能\n",
       "32    王士銘\n",
       "33    簡佳樺\n",
       "34    李慶亮\n",
       "35    蕭淑華\n",
       "36    王士銘\n",
       "37    金宜芳\n",
       "38    楊建安\n",
       "39    林俊翔\n",
       "40    梁柏宇\n",
       "41    蕭怡伶\n",
       "42    陳嘉淑\n",
       "43    陳淑娟\n",
       "44    賴又琦\n",
       "45    王梅劭\n",
       "46    郎慧萍\n",
       "47    黃旻林\n",
       "48    姜琬婷\n",
       "49    高信宏\n",
       "Name: 姓名, dtype: object"
      ]
     },
     "metadata": {},
     "output_type": "display_data"
    },
    {
     "data": {
      "text/plain": [
       "'李淑芳'"
      ]
     },
     "metadata": {},
     "output_type": "display_data"
    },
    {
     "name": "stdout",
     "output_type": "stream",
     "text": [
      "===========\n"
     ]
    },
    {
     "data": {
      "text/plain": [
       "0    李淑芳\n",
       "1    郭淑枝\n",
       "2    張嘉韋\n",
       "Name: 姓名, dtype: object"
      ]
     },
     "metadata": {},
     "output_type": "display_data"
    },
    {
     "name": "stdout",
     "output_type": "stream",
     "text": [
      "===========\n"
     ]
    },
    {
     "data": {
      "text/plain": [
       "47    黃旻林\n",
       "48    姜琬婷\n",
       "49    高信宏\n",
       "Name: 姓名, dtype: object"
      ]
     },
     "metadata": {},
     "output_type": "display_data"
    },
    {
     "name": "stdout",
     "output_type": "stream",
     "text": [
      "===========\n"
     ]
    },
    {
     "data": {
      "text/plain": [
       "0    李淑芳\n",
       "5    李政白\n",
       "8    林志成\n",
       "Name: 姓名, dtype: object"
      ]
     },
     "metadata": {},
     "output_type": "display_data"
    }
   ],
   "source": [
    "#Series的subscript\n",
    "display(name_s)\n",
    "display(name_s[0])\n",
    "print(\"===========\")\n",
    "display(name_s[:3])\n",
    "print(\"===========\")\n",
    "display(name_s[-3:])\n",
    "print(\"===========\")\n",
    "display(name_s[[0, 5, 8]])"
   ]
  }
 ],
 "metadata": {
  "kernelspec": {
   "display_name": "Python 3",
   "language": "python",
   "name": "python3"
  },
  "language_info": {
   "codemirror_mode": {
    "name": "ipython",
    "version": 3
   },
   "file_extension": ".py",
   "mimetype": "text/x-python",
   "name": "python",
   "nbconvert_exporter": "python",
   "pygments_lexer": "ipython3",
   "version": "3.10.12"
  },
  "orig_nbformat": 4
 },
 "nbformat": 4,
 "nbformat_minor": 2
}
