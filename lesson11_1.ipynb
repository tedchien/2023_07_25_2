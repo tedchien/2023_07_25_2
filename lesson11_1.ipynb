{
 "cells": [
  {
   "cell_type": "code",
   "execution_count": 2,
   "metadata": {},
   "outputs": [
    {
     "data": {
      "text/plain": [
       "[[91, 53, 92, 72, 65],\n",
       " [51, 82, 87, 50, 92],\n",
       " [90, 88, 91, 57, 91],\n",
       " [70, 75, 62, 98, 87],\n",
       " [97, 67, 85, 50, 65],\n",
       " [93, 99, 86, 60, 93],\n",
       " [98, 93, 51, 100, 87],\n",
       " [93, 82, 98, 65, 81],\n",
       " [84, 71, 78, 97, 66],\n",
       " [62, 84, 77, 78, 99],\n",
       " [55, 52, 80, 57, 65],\n",
       " [59, 59, 88, 94, 54],\n",
       " [53, 83, 96, 53, 94],\n",
       " [86, 88, 75, 88, 81],\n",
       " [82, 99, 92, 83, 80],\n",
       " [99, 50, 80, 53, 79],\n",
       " [71, 90, 86, 92, 80],\n",
       " [60, 68, 99, 78, 80],\n",
       " [53, 54, 66, 67, 86],\n",
       " [72, 61, 54, 70, 66],\n",
       " [73, 70, 66, 57, 74],\n",
       " [95, 73, 55, 77, 95],\n",
       " [75, 66, 97, 90, 62],\n",
       " [57, 65, 51, 82, 77],\n",
       " [58, 64, 58, 79, 57],\n",
       " [63, 61, 64, 72, 88],\n",
       " [95, 94, 72, 50, 77],\n",
       " [62, 79, 80, 87, 91],\n",
       " [98, 75, 73, 76, 50],\n",
       " [89, 98, 90, 60, 58]]"
      ]
     },
     "execution_count": 2,
     "metadata": {},
     "output_type": "execute_result"
    }
   ],
   "source": [
    "import random\n",
    "def get_score() -> list:\n",
    "    score = []\n",
    "    for i in range(5):\n",
    "        score.append(random.randint(50, 100))\n",
    "    return score\n",
    "\n",
    "nums = int(input(\"請輸入學生數:\"))\n",
    "students = []\n",
    "for _ in range(nums):\n",
    "    scores = get_score()\n",
    "    students.append(scores)\n",
    "students\n"
   ]
  }
 ],
 "metadata": {
  "kernelspec": {
   "display_name": "Python 3",
   "language": "python",
   "name": "python3"
  },
  "language_info": {
   "codemirror_mode": {
    "name": "ipython",
    "version": 3
   },
   "file_extension": ".py",
   "mimetype": "text/x-python",
   "name": "python",
   "nbconvert_exporter": "python",
   "pygments_lexer": "ipython3",
   "version": "3.10.12"
  },
  "orig_nbformat": 4
 },
 "nbformat": 4,
 "nbformat_minor": 2
}
