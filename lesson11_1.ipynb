{
 "cells": [
  {
   "cell_type": "code",
   "execution_count": 2,
   "metadata": {},
   "outputs": [
    {
     "data": {
      "text/plain": [
       "[[91, 53, 92, 72, 65],\n",
       " [51, 82, 87, 50, 92],\n",
       " [90, 88, 91, 57, 91],\n",
       " [70, 75, 62, 98, 87],\n",
       " [97, 67, 85, 50, 65],\n",
       " [93, 99, 86, 60, 93],\n",
       " [98, 93, 51, 100, 87],\n",
       " [93, 82, 98, 65, 81],\n",
       " [84, 71, 78, 97, 66],\n",
       " [62, 84, 77, 78, 99],\n",
       " [55, 52, 80, 57, 65],\n",
       " [59, 59, 88, 94, 54],\n",
       " [53, 83, 96, 53, 94],\n",
       " [86, 88, 75, 88, 81],\n",
       " [82, 99, 92, 83, 80],\n",
       " [99, 50, 80, 53, 79],\n",
       " [71, 90, 86, 92, 80],\n",
       " [60, 68, 99, 78, 80],\n",
       " [53, 54, 66, 67, 86],\n",
       " [72, 61, 54, 70, 66],\n",
       " [73, 70, 66, 57, 74],\n",
       " [95, 73, 55, 77, 95],\n",
       " [75, 66, 97, 90, 62],\n",
       " [57, 65, 51, 82, 77],\n",
       " [58, 64, 58, 79, 57],\n",
       " [63, 61, 64, 72, 88],\n",
       " [95, 94, 72, 50, 77],\n",
       " [62, 79, 80, 87, 91],\n",
       " [98, 75, 73, 76, 50],\n",
       " [89, 98, 90, 60, 58]]"
      ]
     },
     "execution_count": 2,
     "metadata": {},
     "output_type": "execute_result"
    }
   ],
   "source": [
    "import random\n",
    "def get_score() -> list:\n",
    "    score = []\n",
    "    for i in range(5):\n",
    "        score.append(random.randint(50, 100))\n",
    "    return score\n",
    "\n",
    "nums = int(input(\"請輸入學生數:\"))\n",
    "students = []\n",
    "for _ in range(nums):\n",
    "    scores = get_score()\n",
    "    students.append(scores)\n",
    "students\n"
   ]
  },
  {
   "cell_type": "code",
   "execution_count": 3,
   "metadata": {},
   "outputs": [
    {
     "name": "stdout",
     "output_type": "stream",
     "text": [
      "['張韋成', '王泓泰', '黃偉剛', '高士凱', '潘俊賢']\n"
     ]
    },
    {
     "data": {
      "text/plain": [
       "[[62, 62, 74, 80, 98],\n",
       " [92, 86, 66, 86, 88],\n",
       " [72, 55, 50, 98, 67],\n",
       " [80, 77, 77, 93, 58],\n",
       " [84, 63, 82, 60, 68]]"
      ]
     },
     "execution_count": 3,
     "metadata": {},
     "output_type": "execute_result"
    }
   ],
   "source": [
    "import random\n",
    "def get_score() -> list:\n",
    "    score = []\n",
    "    for i in range(5):\n",
    "        score.append(random.randint(50, 100))\n",
    "    return score\n",
    "\n",
    "nums_int = int(input(\"請輸入學生數:\"))\n",
    "#取得30個姓名\n",
    "with open('names.txt',encoding='utf-8',newline='') as file:\n",
    "    names_str = file.read()\n",
    "    all_names_list = names_str.split(sep=\"\\n\")\n",
    "    names_list = random.choices(all_names_list,k=nums_int) #取出一定數量的姓名\n",
    "print(names_list)\n",
    "students = []\n",
    "for _ in range(nums_int):\n",
    "    scores = get_score()\n",
    "    students.append(scores)\n",
    "students"
   ]
  },
  {
   "cell_type": "code",
   "execution_count": 5,
   "metadata": {},
   "outputs": [
    {
     "data": {
      "text/plain": [
       "[['李慶亮', 90, 71, 79, 83, 96],\n",
       " ['黃柏宇', 55, 94, 70, 65, 82],\n",
       " ['楊偉翔', 92, 98, 78, 92, 64],\n",
       " ['周琬婷', 79, 90, 83, 59, 58],\n",
       " ['林冠蕙', 62, 50, 57, 99, 84],\n",
       " ['馮耀中', 51, 56, 91, 67, 94],\n",
       " ['趙偉銘', 61, 54, 64, 52, 90],\n",
       " ['楊火帆', 91, 83, 78, 89, 99],\n",
       " ['賴又琦', 54, 91, 76, 82, 98],\n",
       " ['龔姵君', 92, 77, 57, 99, 59]]"
      ]
     },
     "execution_count": 5,
     "metadata": {},
     "output_type": "execute_result"
    }
   ],
   "source": [
    "import random\n",
    "def get_score() -> list:\n",
    "    score = []\n",
    "    for i in range(5):\n",
    "        score.append(random.randint(50, 100))\n",
    "    return score\n",
    "\n",
    "nums_int = int(input(\"請輸入學生數:\"))\n",
    "#取得nums_int個姓名\n",
    "with open('names.txt',encoding='utf-8',newline='') as file:\n",
    "    names_str = file.read()\n",
    "    all_names_list = names_str.split(sep=\"\\n\")\n",
    "    names_list = random.choices(all_names_list,k=nums_int) #取出一定數量的姓名\n",
    "\n",
    "\n",
    "students = []\n",
    "for i in range(nums_int):\n",
    "    scores = get_score()\n",
    "    new_list = [names_list[i]] + scores\n",
    "    students.append(new_list)\n",
    "students"
   ]
  }
 ],
 "metadata": {
  "kernelspec": {
   "display_name": "Python 3",
   "language": "python",
   "name": "python3"
  },
  "language_info": {
   "codemirror_mode": {
    "name": "ipython",
    "version": 3
   },
   "file_extension": ".py",
   "mimetype": "text/x-python",
   "name": "python",
   "nbconvert_exporter": "python",
   "pygments_lexer": "ipython3",
   "version": "3.10.12"
  },
  "orig_nbformat": 4
 },
 "nbformat": 4,
 "nbformat_minor": 2
}
