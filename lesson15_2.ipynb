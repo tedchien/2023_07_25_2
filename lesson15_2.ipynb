{
 "cells": [
  {
   "cell_type": "code",
   "execution_count": 1,
   "metadata": {},
   "outputs": [
    {
     "data": {
      "text/plain": [
       "[3, 7, 11, 15, 19]"
      ]
     },
     "execution_count": 1,
     "metadata": {},
     "output_type": "execute_result"
    }
   ],
   "source": [
    "#建立list\n",
    "a = [1, 3, 5, 7, 9]\n",
    "a * 2\n",
    "\n",
    "b = [2, 4, 6, 8 ,10]\n",
    "a + b\n",
    "\n",
    "result = []\n",
    "for i in range(5):\n",
    "    result.append(a[i] + b[i])\n",
    "\n",
    "result"
   ]
  },
  {
   "cell_type": "code",
   "execution_count": 2,
   "metadata": {},
   "outputs": [
    {
     "data": {
      "text/plain": [
       "array([ 3,  7, 11, 15, 19])"
      ]
     },
     "execution_count": 2,
     "metadata": {},
     "output_type": "execute_result"
    }
   ],
   "source": [
    "import numpy as np\n",
    "\n",
    "#透過list建立ndArray\n",
    "\n",
    "a_array = np.array([1, 3, 5, 7, 9])\n",
    "a_array * 2\n",
    "\n",
    "b_array = np.array([2, 4, 6, 8 ,10])\n",
    "\n",
    "a_array + b_array"
   ]
  },
  {
   "cell_type": "code",
   "execution_count": 3,
   "metadata": {},
   "outputs": [
    {
     "data": {
      "text/plain": [
       "[87, 96, 83, 99, 56]"
      ]
     },
     "execution_count": 3,
     "metadata": {},
     "output_type": "execute_result"
    }
   ],
   "source": [
    "#使用python建立5個亂數元素的list\n",
    "import random\n",
    "\n",
    "#list comprehension\n",
    "[random.randint(50,100) for _ in range(5)]"
   ]
  },
  {
   "cell_type": "code",
   "execution_count": 4,
   "metadata": {},
   "outputs": [
    {
     "data": {
      "text/plain": [
       "array([92, 62, 64, 58, 77])"
      ]
     },
     "execution_count": 4,
     "metadata": {},
     "output_type": "execute_result"
    }
   ],
   "source": [
    "#使用numpy random 建立亂數\n",
    "import numpy as np\n",
    "np.random.randint(50,high=100,size=5)"
   ]
  },
  {
   "cell_type": "code",
   "execution_count": 5,
   "metadata": {},
   "outputs": [
    {
     "data": {
      "text/plain": [
       "array([[58, 69, 87, 53, 53],\n",
       "       [61, 50, 81, 68, 76],\n",
       "       [78, 54, 52, 71, 61],\n",
       "       [95, 66, 60, 64, 62],\n",
       "       [90, 63, 91, 91, 71],\n",
       "       [99, 68, 58, 52, 50],\n",
       "       [80, 55, 89, 91, 85],\n",
       "       [76, 64, 63, 80, 85],\n",
       "       [94, 68, 71, 89, 68],\n",
       "       [69, 59, 77, 98, 60],\n",
       "       [74, 53, 82, 50, 74],\n",
       "       [69, 75, 62, 57, 61],\n",
       "       [95, 94, 50, 56, 75],\n",
       "       [53, 87, 62, 92, 62],\n",
       "       [63, 71, 50, 97, 63],\n",
       "       [78, 60, 58, 81, 80],\n",
       "       [59, 81, 77, 62, 90],\n",
       "       [54, 94, 65, 90, 69],\n",
       "       [96, 72, 86, 82, 54],\n",
       "       [73, 65, 55, 71, 67],\n",
       "       [87, 79, 91, 68, 69],\n",
       "       [56, 76, 59, 52, 63],\n",
       "       [91, 78, 70, 74, 71],\n",
       "       [83, 86, 70, 70, 58],\n",
       "       [95, 64, 88, 56, 58],\n",
       "       [93, 78, 59, 88, 53],\n",
       "       [81, 73, 60, 69, 54],\n",
       "       [89, 57, 64, 69, 56],\n",
       "       [69, 79, 96, 61, 51],\n",
       "       [53, 95, 95, 93, 56],\n",
       "       [69, 61, 55, 93, 53],\n",
       "       [85, 61, 79, 92, 79],\n",
       "       [67, 80, 55, 74, 79],\n",
       "       [50, 67, 60, 60, 65],\n",
       "       [79, 90, 62, 92, 76],\n",
       "       [61, 74, 78, 70, 85],\n",
       "       [60, 95, 94, 67, 81],\n",
       "       [81, 54, 58, 76, 73],\n",
       "       [57, 61, 98, 86, 96],\n",
       "       [98, 85, 98, 89, 59],\n",
       "       [64, 66, 82, 68, 63],\n",
       "       [86, 70, 76, 99, 64],\n",
       "       [78, 97, 60, 62, 57],\n",
       "       [77, 82, 59, 60, 58],\n",
       "       [80, 56, 60, 92, 95],\n",
       "       [73, 55, 73, 88, 76],\n",
       "       [75, 71, 74, 60, 98],\n",
       "       [56, 63, 84, 64, 54],\n",
       "       [77, 59, 90, 65, 59],\n",
       "       [64, 89, 78, 73, 64]])"
      ]
     },
     "execution_count": 5,
     "metadata": {},
     "output_type": "execute_result"
    }
   ],
   "source": [
    "np.random.randint(50,high=100,size=(50, 5))"
   ]
  }
 ],
 "metadata": {
  "kernelspec": {
   "display_name": "Python 3",
   "language": "python",
   "name": "python3"
  },
  "language_info": {
   "codemirror_mode": {
    "name": "ipython",
    "version": 3
   },
   "file_extension": ".py",
   "mimetype": "text/x-python",
   "name": "python",
   "nbconvert_exporter": "python",
   "pygments_lexer": "ipython3",
   "version": "3.10.12"
  },
  "orig_nbformat": 4
 },
 "nbformat": 4,
 "nbformat_minor": 2
}
