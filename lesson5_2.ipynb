{
 "cells": [
  {
   "cell_type": "code",
   "execution_count": 2,
   "metadata": {},
   "outputs": [
    {
     "name": "stdout",
     "output_type": "stream",
     "text": [
      "0\n",
      "1\n",
      "2\n",
      "3\n",
      "4\n"
     ]
    }
   ],
   "source": [
    "for i in range(5):\n",
    "    print(i)"
   ]
  },
  {
   "cell_type": "code",
   "execution_count": 3,
   "metadata": {},
   "outputs": [
    {
     "name": "stdout",
     "output_type": "stream",
     "text": [
      "1\n",
      "2\n",
      "3\n",
      "4\n"
     ]
    }
   ],
   "source": [
    "for i in range(1,5):\n",
    "    print(i)\n",
    " "
   ]
  },
  {
   "cell_type": "code",
   "execution_count": 4,
   "metadata": {},
   "outputs": [
    {
     "name": "stdout",
     "output_type": "stream",
     "text": [
      "1\n",
      "3\n",
      "5\n",
      "7\n",
      "9\n"
     ]
    }
   ],
   "source": [
    "for i in range(1,10,2):\n",
    "    print(i)"
   ]
  },
  {
   "cell_type": "code",
   "execution_count": 6,
   "metadata": {},
   "outputs": [
    {
     "name": "stdout",
     "output_type": "stream",
     "text": [
      "1加到100的加總為5050\n"
     ]
    }
   ],
   "source": [
    "#1~100的加總\n",
    "total = 0\n",
    "for i in range(1,101):\n",
    "    total += i\n",
    "\n",
    "print(f\"1加到100的加總為{total}\") "
   ]
  },
  {
   "cell_type": "code",
   "execution_count": 7,
   "metadata": {},
   "outputs": [
    {
     "name": "stdout",
     "output_type": "stream",
     "text": [
      "1加到1000的加總為500500\n"
     ]
    }
   ],
   "source": [
    "end = int(input(\"1加到多少的數值:\"))\n",
    "total = 0\n",
    "for i in range(1,end+1):\n",
    "    total += i\n",
    "\n",
    "print(f\"1加到{end}的加總為{total}\") "
   ]
  },
  {
   "cell_type": "code",
   "execution_count": 8,
   "metadata": {},
   "outputs": [
    {
     "name": "stdout",
     "output_type": "stream",
     "text": [
      "15加到45的加總為930\n"
     ]
    }
   ],
   "source": [
    "start = int(input(\"start的數值:\"))\n",
    "end = int(input(\"結束的數值:\"))\n",
    "total = 0\n",
    "for i in range(start,end+1):\n",
    "    total += i\n",
    "\n",
    "print(f\"{start}加到{end}的加總為{total}\") "
   ]
  },
  {
   "cell_type": "code",
   "execution_count": 11,
   "metadata": {},
   "outputs": [
    {
     "name": "stdout",
     "output_type": "stream",
     "text": [
      "1加到100偶數的加總為2550\n",
      "1加到100奇數的加總為2500\n"
     ]
    }
   ],
   "source": [
    "#1~100,偶數的加總\n",
    "#1~100,奇數的加總\n",
    "evenTotal = 0\n",
    "oddTotal = 0\n",
    "\n",
    "for i in range(1,101):\n",
    "    if i % 2 == 0:\n",
    "        evenTotal += i\n",
    "    else:\n",
    "        oddTotal += i\n",
    "\n",
    "print(f\"1加到100偶數的加總為{evenTotal}\")\n",
    "print(f\"1加到100奇數的加總為{oddTotal}\") "
   ]
  }
 ],
 "metadata": {
  "kernelspec": {
   "display_name": "Python 3",
   "language": "python",
   "name": "python3"
  },
  "language_info": {
   "codemirror_mode": {
    "name": "ipython",
    "version": 3
   },
   "file_extension": ".py",
   "mimetype": "text/x-python",
   "name": "python",
   "nbconvert_exporter": "python",
   "pygments_lexer": "ipython3",
   "version": "3.10.12"
  },
  "orig_nbformat": 4
 },
 "nbformat": 4,
 "nbformat_minor": 2
}
