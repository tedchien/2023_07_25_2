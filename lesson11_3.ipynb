{
 "cells": [
  {
   "cell_type": "code",
   "execution_count": 3,
   "metadata": {},
   "outputs": [],
   "source": [
    "import random\n",
    "def get_score() -> list:\n",
    "    score = []\n",
    "    for i in range(5):\n",
    "        score.append(random.randint(50, 100))\n",
    "    return score\n",
    "\n",
    "def get_names(nums:int) -> list:\n",
    "    with open('names.txt',encoding='utf-8',newline='') as file:\n",
    "        names_str = file.read()\n",
    "        all_names_list = names_str.split(sep=\"\\n\")\n",
    "        names_list = random.choices(all_names_list,k=nums) #取出一定數量的姓名\n",
    "    return names_list"
   ]
  },
  {
   "cell_type": "code",
   "execution_count": 6,
   "metadata": {},
   "outputs": [
    {
     "data": {
      "text/plain": [
       "[['陳冠竹', 99, 51, 74, 92, 60],\n",
       " ['高信宏', 71, 79, 84, 84, 64],\n",
       " ['黃必琪', 89, 78, 64, 78, 84],\n",
       " ['賴昌韻', 83, 52, 68, 62, 88],\n",
       " ['郭舜昇', 86, 66, 68, 61, 74],\n",
       " ['吳明妮', 76, 74, 81, 56, 69],\n",
       " ['王坤安', 88, 86, 50, 97, 62],\n",
       " ['林詠斌', 88, 63, 54, 58, 78],\n",
       " ['黃淑芬', 90, 100, 93, 89, 70],\n",
       " ['王筱婷', 60, 67, 86, 83, 83],\n",
       " ['王筱婷', 71, 56, 61, 71, 96],\n",
       " ['劉依婷', 89, 63, 51, 52, 81],\n",
       " ['王怡珊', 60, 94, 96, 52, 68],\n",
       " ['戴萱能', 52, 60, 79, 89, 72],\n",
       " ['錢欣潔', 65, 50, 59, 74, 52],\n",
       " ['蘇婷婷', 50, 58, 73, 53, 83],\n",
       " ['陳嘉淑', 100, 71, 54, 63, 70],\n",
       " ['林佳慧', 50, 83, 82, 70, 82],\n",
       " ['姜琬婷', 90, 65, 70, 91, 50],\n",
       " ['余月修', 63, 99, 73, 64, 65],\n",
       " ['錢佩豪', 69, 99, 72, 79, 99],\n",
       " ['張家秀', 59, 69, 92, 64, 84],\n",
       " ['方筠紹', 80, 68, 50, 97, 70],\n",
       " ['程玫靖', 89, 69, 62, 71, 92],\n",
       " ['彭茹靖', 68, 63, 53, 69, 57],\n",
       " ['賴佳雯', 82, 91, 57, 65, 76],\n",
       " ['聶心怡', 80, 94, 66, 76, 60],\n",
       " ['劉萬季', 61, 72, 74, 97, 72],\n",
       " ['黃政甫', 95, 51, 98, 63, 81],\n",
       " ['陳信念', 67, 80, 100, 78, 56],\n",
       " ['藍姿婷', 89, 66, 72, 72, 53],\n",
       " ['劉佳佩', 99, 52, 99, 64, 86],\n",
       " ['吳志宣', 83, 87, 68, 77, 94],\n",
       " ['林向鈺', 64, 74, 89, 88, 60],\n",
       " ['游淑惠', 67, 57, 74, 56, 55],\n",
       " ['周怡啟', 94, 61, 79, 90, 60],\n",
       " ['邱亭君', 83, 55, 73, 54, 73],\n",
       " ['景歡燦', 86, 70, 78, 54, 84],\n",
       " ['戴萱能', 80, 51, 90, 67, 61],\n",
       " ['劉慧君', 88, 65, 84, 93, 84],\n",
       " ['蕭淑華', 78, 94, 70, 58, 81],\n",
       " ['胡姿婷', 96, 80, 60, 66, 67],\n",
       " ['周琬婷', 57, 96, 75, 99, 99],\n",
       " ['盧文啟', 86, 78, 74, 84, 96],\n",
       " ['鄭奇翰', 64, 95, 88, 91, 60],\n",
       " ['黃善迪', 71, 53, 94, 59, 100],\n",
       " ['艾巧夫', 83, 76, 71, 87, 79],\n",
       " ['陳慧君', 65, 66, 91, 98, 72],\n",
       " ['蔡嘉音', 83, 55, 86, 54, 66],\n",
       " ['蒙淑惠', 91, 67, 63, 91, 86]]"
      ]
     },
     "execution_count": 6,
     "metadata": {},
     "output_type": "execute_result"
    }
   ],
   "source": [
    "nums_int = int(input(\"請輸入學生數:\"))\n",
    "#取得nums_int個姓名\n",
    "names_list = get_names(nums_int)\n",
    "students = []\n",
    "for i in range(nums_int):\n",
    "    scores = get_score()\n",
    "    new_list = [names_list[i]] + scores\n",
    "    students.append(new_list)\n",
    "students"
   ]
  },
  {
   "cell_type": "code",
   "execution_count": 7,
   "metadata": {},
   "outputs": [
    {
     "name": "stdout",
     "output_type": "stream",
     "text": [
      "存檔成功\n"
     ]
    }
   ],
   "source": [
    "import csv\n",
    "#將2維list儲存為csv檔\n",
    "fileName = input(\"請輸入檔案名:(csv)\")\n",
    "with open(f'{fileName}.csv',mode='w',encoding='utf-8', newline='') as file:\n",
    "    csv_writer = csv.writer(file)\n",
    "    csv_writer.writerow(['姓名', '國文', '英文', '數學', '地理', '歷史'])\n",
    "    csv_writer.writerows(students)\n",
    "\n",
    "print(\"存檔成功\")"
   ]
  }
 ],
 "metadata": {
  "kernelspec": {
   "display_name": "Python 3",
   "language": "python",
   "name": "python3"
  },
  "language_info": {
   "codemirror_mode": {
    "name": "ipython",
    "version": 3
   },
   "file_extension": ".py",
   "mimetype": "text/x-python",
   "name": "python",
   "nbconvert_exporter": "python",
   "pygments_lexer": "ipython3",
   "version": "3.10.12"
  },
  "orig_nbformat": 4
 },
 "nbformat": 4,
 "nbformat_minor": 2
}
