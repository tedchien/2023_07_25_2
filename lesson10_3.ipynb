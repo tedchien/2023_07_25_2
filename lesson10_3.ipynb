{
 "cells": [
  {
   "cell_type": "code",
   "execution_count": 1,
   "metadata": {},
   "outputs": [
    {
     "data": {
      "text/plain": [
       "([79, 92, 68, 75, 65], [78, 95, 68, 72, 65], [72, 91, 69, 71, 62])"
      ]
     },
     "execution_count": 1,
     "metadata": {},
     "output_type": "execute_result"
    }
   ],
   "source": [
    "#2維list\n",
    "students = [[79, 92, 68, 75, 65],\n",
    "            [78, 95, 68, 72, 65],\n",
    "            [72, 91, 69, 71, 62]]\n",
    "students[0] , students[1], students[2]"
   ]
  },
  {
   "cell_type": "code",
   "execution_count": 2,
   "metadata": {},
   "outputs": [
    {
     "name": "stdout",
     "output_type": "stream",
     "text": [
      "[79, 92, 68, 75, 65]\n",
      "[78, 95, 68, 72, 65]\n",
      "[72, 91, 69, 71, 62]\n"
     ]
    }
   ],
   "source": [
    "for student in students:\n",
    "    print(student)"
   ]
  },
  {
   "cell_type": "code",
   "execution_count": 3,
   "metadata": {},
   "outputs": [
    {
     "data": {
      "text/plain": [
       "[[82, 75, 96, 84, 82],\n",
       " [67, 77, 92, 81, 66],\n",
       " [64, 53, 97, 91, 96],\n",
       " [60, 79, 67, 96, 78],\n",
       " [90, 70, 66, 77, 50],\n",
       " [50, 86, 73, 98, 83],\n",
       " [89, 92, 84, 81, 71],\n",
       " [86, 87, 92, 53, 85],\n",
       " [83, 72, 98, 70, 51],\n",
       " [57, 69, 86, 99, 63],\n",
       " [64, 54, 77, 65, 99],\n",
       " [76, 100, 74, 62, 98],\n",
       " [97, 79, 53, 77, 77],\n",
       " [95, 94, 82, 78, 89],\n",
       " [91, 66, 56, 86, 97],\n",
       " [99, 52, 81, 88, 73],\n",
       " [91, 84, 91, 70, 97],\n",
       " [83, 71, 61, 89, 89],\n",
       " [78, 100, 60, 92, 89],\n",
       " [99, 80, 67, 89, 79],\n",
       " [79, 94, 63, 89, 58],\n",
       " [68, 89, 82, 91, 53],\n",
       " [95, 78, 77, 68, 95],\n",
       " [93, 77, 70, 68, 55],\n",
       " [97, 87, 53, 66, 52],\n",
       " [78, 61, 74, 93, 60],\n",
       " [50, 79, 74, 78, 67],\n",
       " [60, 51, 70, 65, 69],\n",
       " [87, 88, 93, 62, 73],\n",
       " [64, 80, 73, 51, 64],\n",
       " [56, 69, 56, 84, 67],\n",
       " [59, 60, 86, 72, 53],\n",
       " [67, 94, 53, 68, 94],\n",
       " [81, 75, 67, 100, 90],\n",
       " [75, 60, 58, 97, 60],\n",
       " [64, 70, 71, 56, 68],\n",
       " [75, 78, 90, 61, 73],\n",
       " [92, 59, 81, 67, 64],\n",
       " [79, 73, 71, 68, 79],\n",
       " [58, 61, 54, 97, 100],\n",
       " [58, 69, 74, 68, 80],\n",
       " [76, 82, 64, 77, 93],\n",
       " [90, 82, 62, 79, 64],\n",
       " [83, 62, 57, 71, 80],\n",
       " [60, 83, 60, 78, 51],\n",
       " [83, 98, 75, 81, 93],\n",
       " [65, 91, 61, 95, 59],\n",
       " [62, 86, 73, 57, 89],\n",
       " [69, 52, 82, 90, 92],\n",
       " [77, 100, 61, 61, 82]]"
      ]
     },
     "execution_count": 3,
     "metadata": {},
     "output_type": "execute_result"
    }
   ],
   "source": [
    "import random\n",
    "def get_score() -> list:\n",
    "    score = []\n",
    "    for i in range(5):\n",
    "        score.append(random.randint(50, 100))\n",
    "    return score\n",
    "\n",
    "students = []\n",
    "for i in range(50):\n",
    "    scores = get_score()\n",
    "    students.append(scores)\n",
    "students"
   ]
  }
 ],
 "metadata": {
  "kernelspec": {
   "display_name": "Python 3",
   "language": "python",
   "name": "python3"
  },
  "language_info": {
   "codemirror_mode": {
    "name": "ipython",
    "version": 3
   },
   "file_extension": ".py",
   "mimetype": "text/x-python",
   "name": "python",
   "nbconvert_exporter": "python",
   "pygments_lexer": "ipython3",
   "version": "3.10.12"
  },
  "orig_nbformat": 4
 },
 "nbformat": 4,
 "nbformat_minor": 2
}
