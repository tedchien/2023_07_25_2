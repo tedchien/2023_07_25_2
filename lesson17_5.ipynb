{
 "cells": [
  {
   "cell_type": "code",
   "execution_count": 1,
   "metadata": {},
   "outputs": [
    {
     "data": {
      "text/plain": [
       "0      73\n",
       "1      91\n",
       "2      90\n",
       "3      73\n",
       "4      76\n",
       "5      84\n",
       "6      54\n",
       "7      58\n",
       "8      88\n",
       "9     100\n",
       "10     53\n",
       "11     52\n",
       "12     54\n",
       "13     54\n",
       "14     64\n",
       "15     66\n",
       "16     68\n",
       "17     86\n",
       "18     51\n",
       "19     76\n",
       "20     59\n",
       "21     63\n",
       "22     98\n",
       "23     74\n",
       "24     96\n",
       "25     87\n",
       "26     78\n",
       "27     75\n",
       "28     53\n",
       "29     73\n",
       "30     98\n",
       "31     50\n",
       "32     91\n",
       "33     75\n",
       "34     63\n",
       "35     86\n",
       "36     88\n",
       "37     61\n",
       "38     98\n",
       "39     76\n",
       "40     98\n",
       "41     69\n",
       "42     65\n",
       "43     65\n",
       "44     65\n",
       "45     72\n",
       "46     62\n",
       "47     80\n",
       "48     81\n",
       "49     70\n",
       "Name: 國文, dtype: int64"
      ]
     },
     "execution_count": 1,
     "metadata": {},
     "output_type": "execute_result"
    }
   ],
   "source": [
    "import pandas as pd\n",
    "df = pd.read_csv('學生成績.csv')\n",
    "\n",
    "#使用subscript搜尋Series value\n",
    "chinese_s = df[\"國文\"]\n",
    "chinese_s"
   ]
  },
  {
   "cell_type": "code",
   "execution_count": 2,
   "metadata": {},
   "outputs": [
    {
     "data": {
      "text/plain": [
       "0      True\n",
       "1      True\n",
       "2      True\n",
       "3      True\n",
       "4      True\n",
       "5      True\n",
       "6     False\n",
       "7     False\n",
       "8      True\n",
       "9      True\n",
       "10    False\n",
       "11    False\n",
       "12    False\n",
       "13    False\n",
       "14     True\n",
       "15     True\n",
       "16     True\n",
       "17     True\n",
       "18    False\n",
       "19     True\n",
       "20    False\n",
       "21     True\n",
       "22     True\n",
       "23     True\n",
       "24     True\n",
       "25     True\n",
       "26     True\n",
       "27     True\n",
       "28    False\n",
       "29     True\n",
       "30     True\n",
       "31    False\n",
       "32     True\n",
       "33     True\n",
       "34     True\n",
       "35     True\n",
       "36     True\n",
       "37     True\n",
       "38     True\n",
       "39     True\n",
       "40     True\n",
       "41     True\n",
       "42     True\n",
       "43     True\n",
       "44     True\n",
       "45     True\n",
       "46     True\n",
       "47     True\n",
       "48     True\n",
       "49     True\n",
       "Name: 國文, dtype: bool"
      ]
     },
     "execution_count": 2,
     "metadata": {},
     "output_type": "execute_result"
    }
   ],
   "source": [
    "#國文及格的\n",
    "chinese_s >= 60"
   ]
  },
  {
   "cell_type": "code",
   "execution_count": 3,
   "metadata": {},
   "outputs": [
    {
     "data": {
      "text/plain": [
       "0      73\n",
       "1      91\n",
       "2      90\n",
       "3      73\n",
       "4      76\n",
       "5      84\n",
       "8      88\n",
       "9     100\n",
       "14     64\n",
       "15     66\n",
       "16     68\n",
       "17     86\n",
       "19     76\n",
       "21     63\n",
       "22     98\n",
       "23     74\n",
       "24     96\n",
       "25     87\n",
       "26     78\n",
       "27     75\n",
       "29     73\n",
       "30     98\n",
       "32     91\n",
       "33     75\n",
       "34     63\n",
       "35     86\n",
       "36     88\n",
       "37     61\n",
       "38     98\n",
       "39     76\n",
       "40     98\n",
       "41     69\n",
       "42     65\n",
       "43     65\n",
       "44     65\n",
       "45     72\n",
       "46     62\n",
       "47     80\n",
       "48     81\n",
       "49     70\n",
       "Name: 國文, dtype: int64"
      ]
     },
     "execution_count": 3,
     "metadata": {},
     "output_type": "execute_result"
    }
   ],
   "source": [
    "#國文及格的\n",
    "chinese_s[chinese_s >= 60]"
   ]
  },
  {
   "cell_type": "code",
   "execution_count": 4,
   "metadata": {},
   "outputs": [
    {
     "data": {
      "text/plain": [
       "0     59\n",
       "7     55\n",
       "11    54\n",
       "12    50\n",
       "22    53\n",
       "25    54\n",
       "27    54\n",
       "29    50\n",
       "32    55\n",
       "41    58\n",
       "42    59\n",
       "46    56\n",
       "47    57\n",
       "Name: 數學, dtype: int64"
      ]
     },
     "execution_count": 4,
     "metadata": {},
     "output_type": "execute_result"
    }
   ],
   "source": [
    "#數學不及格的\n",
    "math_s = df[\"數學\"]\n",
    "math_s[math_s < 60]"
   ]
  }
 ],
 "metadata": {
  "kernelspec": {
   "display_name": "Python 3",
   "language": "python",
   "name": "python3"
  },
  "language_info": {
   "codemirror_mode": {
    "name": "ipython",
    "version": 3
   },
   "file_extension": ".py",
   "mimetype": "text/x-python",
   "name": "python",
   "nbconvert_exporter": "python",
   "pygments_lexer": "ipython3",
   "version": "3.10.12"
  },
  "orig_nbformat": 4
 },
 "nbformat": 4,
 "nbformat_minor": 2
}
